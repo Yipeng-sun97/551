{
 "cells": [
  {
   "cell_type": "code",
   "execution_count": 1,
   "metadata": {},
   "outputs": [],
   "source": [
    "content = '''\n",
    "Python3 高级开发工程师 上海互教教育科技有限公司上海-浦东新区2万/月02-18满员\n",
    "测试开发工程师（C++/python） 上海墨鹍数码科技有限公司上海-浦东新区2.5万/每月02-18未满员\n",
    "Python3 开发工程师 上海德拓信息技术股份有限公司上海-徐汇区1.3万/每月02-18剩余11人\n",
    "测试开发工程师（Python） 赫里普（上海）信息科技有限公司上海-浦东新区1.1万/每月02-18剩余5人\n",
    "Python高级开发工程师 上海行动教育科技股份有限公司上海-闵行区2.8万/月02-18剩余255人\n",
    "python开发工程师 上海优似腾软件开发有限公司上海-浦东新区2.5万/每月02-18满员\n",
    "'''\n",
    "\n"
   ]
  },
  {
   "cell_type": "markdown",
   "metadata": {},
   "source": [
    "正则表达式方式一"
   ]
  },
  {
   "cell_type": "code",
   "execution_count": 2,
   "metadata": {},
   "outputs": [
    {
     "name": "stdout",
     "output_type": "stream",
     "text": [
      "2\n",
      "2.5\n",
      "1.3\n",
      "1.1\n",
      "2.8\n",
      "2.5\n"
     ]
    }
   ],
   "source": [
    "import re\n",
    "\n",
    "p=re.compile(r'([\\d.]+)万/每{0,1}月')\n",
    "\n",
    "for i in p.findall(content):\n",
    "    print(i)"
   ]
  },
  {
   "cell_type": "markdown",
   "metadata": {},
   "source": [
    "正则表达式方式二"
   ]
  },
  {
   "cell_type": "code",
   "execution_count": 3,
   "metadata": {},
   "outputs": [
    {
     "name": "stdout",
     "output_type": "stream",
     "text": [
      "2\n",
      "2.5\n",
      "1.3\n",
      "1.1\n",
      "2.8\n",
      "2.5\n"
     ]
    }
   ],
   "source": [
    "import re\n",
    "for one in  re.findall(r'([\\d.]+)万/每{0,1}月', content):\n",
    "    print(one)"
   ]
  },
  {
   "cell_type": "markdown",
   "metadata": {},
   "source": [
    "点-匹配所有字符"
   ]
  },
  {
   "cell_type": "markdown",
   "metadata": {},
   "source": [
    "表示要匹配除了 换行符 之外的任何 单个 字符"
   ]
  },
  {
   "cell_type": "code",
   "execution_count": 4,
   "metadata": {},
   "outputs": [],
   "source": [
    "content = '''苹果是绿色的\n",
    "橙子是橙色的\n",
    "香蕉是黄色的\n",
    "乌鸦是黑色的'''"
   ]
  },
  {
   "cell_type": "code",
   "execution_count": 6,
   "metadata": {},
   "outputs": [
    {
     "name": "stdout",
     "output_type": "stream",
     "text": [
      "绿色\n",
      "橙色\n",
      "黄色\n",
      "黑色\n"
     ]
    }
   ],
   "source": [
    "for one in re.findall(r'.色',content):\n",
    "    print(one)"
   ]
  },
  {
   "cell_type": "code",
   "execution_count": 7,
   "metadata": {},
   "outputs": [
    {
     "name": "stdout",
     "output_type": "stream",
     "text": [
      "绿色\n",
      "橙色\n",
      "黄色\n",
      "黑色\n"
     ]
    }
   ],
   "source": [
    "p = re.compile(r'.色')\n",
    "for one in p.findall(content):\n",
    "    print(one)\n"
   ]
  },
  {
   "cell_type": "markdown",
   "metadata": {},
   "source": [
    "星号-重复匹配任意次"
   ]
  },
  {
   "cell_type": "markdown",
   "metadata": {},
   "source": [
    "* 表示匹配前面的子表达式任意次，包括0次。"
   ]
  },
  {
   "cell_type": "code",
   "execution_count": 8,
   "metadata": {},
   "outputs": [
    {
     "name": "stdout",
     "output_type": "stream",
     "text": [
      "，是绿色的\n",
      "，是橙色的\n",
      "，是黄色的\n",
      "，是黑色的\n",
      "，\n"
     ]
    }
   ],
   "source": [
    "content = '''苹果，是绿色的\n",
    "橙子，是橙色的\n",
    "香蕉，是黄色的\n",
    "乌鸦，是黑色的\n",
    "猴子，\n",
    "'''\n",
    "\n",
    "import re\n",
    "p = re.compile(r'，.*')\n",
    "for one in  p.findall(content):\n",
    "    print(one)"
   ]
  },
  {
   "cell_type": "markdown",
   "metadata": {},
   "source": [
    "加号-重复匹配多次"
   ]
  },
  {
   "cell_type": "markdown",
   "metadata": {},
   "source": [
    "+ 表示匹配前面的子表达式一次或多次，不包括0次(与*号的区别)"
   ]
  },
  {
   "cell_type": "code",
   "execution_count": 10,
   "metadata": {},
   "outputs": [
    {
     "name": "stdout",
     "output_type": "stream",
     "text": [
      "，是绿色的\n",
      "，是橙色的\n",
      "，是黄色的\n",
      "，是黑色的\n"
     ]
    }
   ],
   "source": [
    "# .+\n",
    "content = '''\n",
    "苹果，是绿色的\n",
    "橙子，是橙色的\n",
    "香蕉，是黄色的\n",
    "乌鸦，是黑色的\n",
    "猴子，\n",
    "'''\n",
    "\n",
    "import re\n",
    "p = re.compile(r'，.+')\n",
    "for one in  p.findall(content):\n",
    "    print(one) \n",
    "\n",
    "#不包括0次所以最后一个例子不会匹配\n"
   ]
  },
  {
   "cell_type": "markdown",
   "metadata": {},
   "source": [
    "问号-匹配0-1次\n",
    "\n"
   ]
  },
  {
   "cell_type": "markdown",
   "metadata": {},
   "source": [
    "? 表示匹配前面的子表达式0次或1次。"
   ]
  },
  {
   "cell_type": "markdown",
   "metadata": {},
   "source": [
    "花括号-匹配指定次数"
   ]
  },
  {
   "cell_type": "markdown",
   "metadata": {},
   "source": [
    "‘红彤彤，绿油油，黑乎乎，绿油油油油’\n",
    "\n",
    "表达式 油{3} 就表示匹配 连续的 油 字 3次\n",
    "\n",
    "表达式 油{3,4} 就表示匹配 连续的 油 字 至少3次，至多 4 次"
   ]
  },
  {
   "cell_type": "markdown",
   "metadata": {},
   "source": [
    "贪婪模式和非贪婪模式"
   ]
  },
  {
   "cell_type": "markdown",
   "metadata": {},
   "source": [
    "\n",
    "我们要把下面的字符串中的所有html标签都提取出来"
   ]
  },
  {
   "cell_type": "code",
   "execution_count": null,
   "metadata": {},
   "outputs": [],
   "source": [
    "#source = '<html><head><title>Title</title>'"
   ]
  },
  {
   "cell_type": "markdown",
   "metadata": {},
   "source": [
    "得到这样的一个列表"
   ]
  },
  {
   "cell_type": "code",
   "execution_count": 19,
   "metadata": {},
   "outputs": [],
   "source": [
    "#['<html>', '<head>', '<title>', '</title>']\n",
    "\n",
    "#很容易想到使用正则表达式 <.*>\n",
    "\n",
    "#写出如下代码\n"
   ]
  },
  {
   "cell_type": "code",
   "execution_count": 20,
   "metadata": {},
   "outputs": [
    {
     "name": "stdout",
     "output_type": "stream",
     "text": [
      "['<html><head><title>Title</title>']\n"
     ]
    }
   ],
   "source": [
    "source = '<html><head><title>Title</title>'\n",
    "\n",
    "import re\n",
    "p = re.compile(r'<.*>')\n",
    "\n",
    "print(p.findall(source))"
   ]
  },
  {
   "cell_type": "markdown",
   "metadata": {},
   "source": [
    "目前的模式是贪婪模式，需要转换成非贪婪模式"
   ]
  },
  {
   "cell_type": "code",
   "execution_count": 21,
   "metadata": {},
   "outputs": [
    {
     "name": "stdout",
     "output_type": "stream",
     "text": [
      "['<html>', '<head>', '<title>', '</title>']\n"
     ]
    }
   ],
   "source": [
    "#后面加‘？’就可以转换成非贪婪模式\n",
    "source = '<html><head><title>Title</title>'\n",
    "\n",
    "import re\n",
    "# 注意多出的问号\n",
    "p = re.compile(r'<.*?>')\n",
    "\n",
    "print(p.findall(source))"
   ]
  },
  {
   "cell_type": "markdown",
   "metadata": {},
   "source": [
    "匹配某种字符类型\n",
    "\n",
    "反斜杠后面接一些字符，表示匹配 某种类型 的一个字符。\n",
    "\n",
    "比如\n",
    "\n",
    "\\d 匹配0-9之间任意一个数字字符，等价于表达式 [0-9]\n",
    "\n",
    "\\D 匹配任意一个不是0-9之间的数字字符，等价于表达式 [^0-9]\n",
    "\n",
    "\\s 匹配任意一个空白字符，包括 空格、tab、换行符等，等价于表达式 [\\t\\n\\r\\f\\v]\n",
    "\n",
    "\\S 匹配任意一个非空白字符，等价于表达式 [^ \\t\\n\\r\\f\\v]\n",
    "\n",
    "\\w 匹配任意一个文字字符，包括大小写字母、数字、下划线，等价于表达式 [a-zA-Z0-9_]\n",
    "\n",
    "缺省情况也包括 Unicode文字字符，如果指定 ASCII 码标记，则只包括ASCII字母\n",
    "\n",
    "\\W 匹配任意一个非文字字符，等价于表达式 [^a-zA-Z0-9_]\n",
    "\n",
    "\n",
    "反斜杠也可以用在方括号里面，比如 [\\s,.] 表示匹配 ： 任何空白字符， 或者逗号，或者点"
   ]
  },
  {
   "cell_type": "code",
   "execution_count": 22,
   "metadata": {},
   "outputs": [
    {
     "name": "stdout",
     "output_type": "stream",
     "text": [
      "王亚辉\n",
      "tony\n",
      "损失\n"
     ]
    }
   ],
   "source": [
    "#如果利用\\w 选择英文的文字\n",
    "\n",
    "content='''\n",
    "王亚辉\n",
    "tony\n",
    "损失\n",
    "'''\n",
    "\n",
    "p = re.compile(r'\\w{2,4}')\n",
    "for one in p.findall(content):\n",
    "    print(one)"
   ]
  },
  {
   "cell_type": "code",
   "execution_count": 23,
   "metadata": {},
   "outputs": [
    {
     "name": "stdout",
     "output_type": "stream",
     "text": [
      "tony\n"
     ]
    }
   ],
   "source": [
    "content='''\n",
    "王亚辉\n",
    "tony\n",
    "损失\n",
    "'''\n",
    "\n",
    "p = re.compile(r'\\w{2,4}',re.A) #re.A =re.ASCII\n",
    "for one in p.findall(content):\n",
    "    print(one)"
   ]
  },
  {
   "cell_type": "markdown",
   "metadata": {},
   "source": [
    "（）分组"
   ]
  },
  {
   "cell_type": "code",
   "execution_count": 24,
   "metadata": {},
   "outputs": [
    {
     "name": "stdout",
     "output_type": "stream",
     "text": [
      "苹果\n",
      "橙子\n",
      "香蕉\n"
     ]
    }
   ],
   "source": [
    "content = '''苹果，苹果是绿色的\n",
    "橙子，橙子是橙色的\n",
    "香蕉，香蕉是黄色的'''\n",
    "\n",
    "import re\n",
    "p = re.compile(r'^(.*)，', re.MULTILINE)\n",
    "for one in  p.findall(content):\n",
    "    print(one)"
   ]
  },
  {
   "cell_type": "markdown",
   "metadata": {},
   "source": [
    "分组 还可以多次使用。\n",
    "\n",
    "比如，我们要从下面的文本中，提取出每个人的 名字 和对应的 手机号"
   ]
  },
  {
   "cell_type": "code",
   "execution_count": 25,
   "metadata": {},
   "outputs": [
    {
     "name": "stdout",
     "output_type": "stream",
     "text": [
      "('张三', '15945678901')\n",
      "('李四', '13945677701')\n",
      "('王二', '13845666901')\n"
     ]
    }
   ],
   "source": [
    "content = '''张三，手机号码15945678901\n",
    "李四，手机号码13945677701\n",
    "王二，手机号码13845666901'''\n",
    "\n",
    "import re\n",
    "p = re.compile(r'^(.+)，.+(\\d{11})', re.MULTILINE)\n",
    "for one in  p.findall(content):\n",
    "    print(one)"
   ]
  },
  {
   "cell_type": "markdown",
   "metadata": {},
   "source": [
    "当有多个分组的时候，我们可以使用 (?P<分组名>...) 这样的格式，给每个分组命名。\n",
    "\n",
    "这样做的好处是，更方便后续的代码提取每个分组里面的内容"
   ]
  },
  {
   "cell_type": "code",
   "execution_count": 1,
   "metadata": {},
   "outputs": [
    {
     "name": "stdout",
     "output_type": "stream",
     "text": [
      "张三\n",
      "15945678901\n",
      "李四\n",
      "13945677701\n",
      "王二\n",
      "13845666901\n"
     ]
    }
   ],
   "source": [
    "content = '''张三，手机号码15945678901\n",
    "李四，手机号码13945677701\n",
    "王二，手机号码13845666901'''\n",
    "\n",
    "import re\n",
    "p = re.compile(r'^(?P<name>.+)，.+(?P<phone>\\d{11})', re.MULTILINE)\n",
    "for match in  p.finditer(content):\n",
    "    print(match.group('name'))\n",
    "    print(match.group('phone'))"
   ]
  },
  {
   "cell_type": "markdown",
   "metadata": {},
   "source": [
    "前面说过, 点 是 不匹配换行符 的，可是有时候，特征 字符串就是跨行的，比如要找出下面文字中所有的职位名称"
   ]
  },
  {
   "cell_type": "markdown",
   "metadata": {},
   "source": [
    "如果你直接使用表达式 class=\\\"t1\\\">.*?<a>(.*?)</a> 会发现匹配不上，因为 t1 和 <a> 之间有两个空行。\n",
    "\n",
    "这时你需要 点也匹配换行符 ，可以使用 DOTALL 参数\n",
    "\n"
   ]
  },
  {
   "cell_type": "code",
   "execution_count": 26,
   "metadata": {},
   "outputs": [
    {
     "name": "stdout",
     "output_type": "stream",
     "text": [
      "Python开发工程师\n",
      "java开发工程师\n"
     ]
    }
   ],
   "source": [
    "content = '''\n",
    "<div class=\"el\">\n",
    "        <p class=\"t1\">           \n",
    "            <span>\n",
    "                <a>Python开发工程师</a>\n",
    "            </span>\n",
    "        </p>\n",
    "        <span class=\"t2\">南京</span>\n",
    "        <span class=\"t3\">1.5-2万/月</span>\n",
    "</div>\n",
    "<div class=\"el\">\n",
    "        <p class=\"t1\">\n",
    "            <span>\n",
    "                <a>java开发工程师</a>\n",
    "            </span>\n",
    "\t\t</p>\n",
    "        <span class=\"t2\">苏州</span>\n",
    "        <span class=\"t3\">1.5-2/月</span>\n",
    "</div>\n",
    "'''\n",
    "\n",
    "import re\n",
    "p = re.compile(r'class=\\\"t1\\\">.*?<a>(.*?)</a>', re.DOTALL)\n",
    "for one in  p.findall(content):\n",
    "    print(one)"
   ]
  },
  {
   "cell_type": "markdown",
   "metadata": {},
   "source": [
    "切割字符串\n",
    "\n",
    "\n",
    "\n",
    "\n",
    "字符串 对象的 split 方法只适用于 简单的字符串分割。 有时，你需要更加灵活的字符串切割。\n",
    "\n",
    "比如，我们需要从下面字符串中提取武将的名字。"
   ]
  },
  {
   "cell_type": "code",
   "execution_count": 28,
   "metadata": {},
   "outputs": [
    {
     "name": "stdout",
     "output_type": "stream",
     "text": [
      "['关羽', '张飞', '赵云', '马超', '黄忠', '李逵']\n"
     ]
    }
   ],
   "source": [
    "import re\n",
    "\n",
    "names = '关羽; 张飞, 赵云,   马超, 黄忠  李逵'\n",
    "\n",
    "namelist = re.split(r'[;,\\s]\\s*', names)\n",
    "print(namelist)\n",
    "\n",
    "#正则表达式 [;,\\s]\\s* 指定了，分割符为 分号、逗号、空格 里面的任意一种均可，并且 该符号周围可以有不定数量的空格。"
   ]
  },
  {
   "cell_type": "markdown",
   "metadata": {},
   "source": [
    "匹配模式替换"
   ]
  },
  {
   "cell_type": "markdown",
   "metadata": {},
   "source": [
    "比如，我们需要在下面这段文本中 所有的 链接中 找到所以 /avxxxxxx/ 这种 以 /av 开头，后面接一串数字， 这种模式的字符串。\n",
    "\n",
    "然后，这些字符串全部 替换为 /cn345677/ 。"
   ]
  },
  {
   "cell_type": "markdown",
   "metadata": {},
   "source": [
    "被替换的内容不是固定的，所以没法用 字符串的replace方法。\n",
    "\n",
    "这时，可以使用正则表达式里面的 sub 方法："
   ]
  },
  {
   "cell_type": "code",
   "execution_count": 5,
   "metadata": {},
   "outputs": [
    {
     "name": "stdout",
     "output_type": "stream",
     "text": [
      "\n",
      "\n",
      "下面是这学期要学习的课程：\n",
      "\n",
      "<a href='https://www.bilibili.com/video/cn345677/?p=1' target='_blank'>点击这里，边看视频讲解，边学习以下内容</a>\n",
      "这节讲的是牛顿第2运动定律\n",
      "\n",
      "<a href='https://www.bilibili.com/video/cn345677/?p=125' target='_blank'>点击这里，边看视频讲解，边学习以下内容</a>\n",
      "这节讲的是毕达哥拉斯公式\n",
      "\n",
      "<a href='https://www.bilibili.com/video/cn345677/?p=33' target='_blank'>点击这里，边看视频讲解，边学习以下内容</a>\n",
      "这节讲的是切割磁力线\n",
      "\n"
     ]
    }
   ],
   "source": [
    "import re\n",
    "\n",
    "names = '''\n",
    "\n",
    "下面是这学期要学习的课程：\n",
    "\n",
    "<a href='https://www.bilibili.com/video/av66771949/?p=1' target='_blank'>点击这里，边看视频讲解，边学习以下内容</a>\n",
    "这节讲的是牛顿第2运动定律\n",
    "\n",
    "<a href='https://www.bilibili.com/video/av46349552/?p=125' target='_blank'>点击这里，边看视频讲解，边学习以下内容</a>\n",
    "这节讲的是毕达哥拉斯公式\n",
    "\n",
    "<a href='https://www.bilibili.com/video/av90571967/?p=33' target='_blank'>点击这里，边看视频讲解，边学习以下内容</a>\n",
    "这节讲的是切割磁力线\n",
    "'''\n",
    "\n",
    "newStr = re.sub(r'/av\\d+?/', '/cn345677/' , names)\n",
    "print(newStr)"
   ]
  },
  {
   "cell_type": "markdown",
   "metadata": {},
   "source": [
    "刚才的例子中，我们用来替换的是一个固定的字符串 /cn345677/。\n",
    "\n",
    "如果，我们要求，替换后的内容 的是原来的数字+6， 比如 /av66771949/ 替换为 /av66771955/ 。\n",
    "\n",
    "怎么办？"
   ]
  },
  {
   "cell_type": "code",
   "execution_count": 6,
   "metadata": {},
   "outputs": [
    {
     "name": "stdout",
     "output_type": "stream",
     "text": [
      "/av66771949/ 替换为 /av66771955/\n",
      "/av46349552/ 替换为 /av46349558/\n",
      "/av90571967/ 替换为 /av90571973/\n",
      "\n",
      "\n",
      "下面是这学期要学习的课程：\n",
      "\n",
      "<a href='https://www.bilibili.com/video/av66771955/?p=1' target='_blank'>点击这里，边看视频讲解，边学习以下内容</a>\n",
      "这节讲的是牛顿第2运动定律\n",
      "\n",
      "<a href='https://www.bilibili.com/video/av46349558/?p=125' target='_blank'>点击这里，边看视频讲解，边学习以下内容</a>\n",
      "这节讲的是毕达哥拉斯公式\n",
      "\n",
      "<a href='https://www.bilibili.com/video/av90571973/?p=33' target='_blank'>点击这里，边看视频讲解，边学习以下内容</a>\n",
      "这节讲的是切割磁力线\n",
      "\n"
     ]
    }
   ],
   "source": [
    "import re\n",
    "\n",
    "names = '''\n",
    "\n",
    "下面是这学期要学习的课程：\n",
    "\n",
    "<a href='https://www.bilibili.com/video/av66771949/?p=1' target='_blank'>点击这里，边看视频讲解，边学习以下内容</a>\n",
    "这节讲的是牛顿第2运动定律\n",
    "\n",
    "<a href='https://www.bilibili.com/video/av46349552/?p=125' target='_blank'>点击这里，边看视频讲解，边学习以下内容</a>\n",
    "这节讲的是毕达哥拉斯公式\n",
    "\n",
    "<a href='https://www.bilibili.com/video/av90571967/?p=33' target='_blank'>点击这里，边看视频讲解，边学习以下内容</a>\n",
    "这节讲的是切割磁力线\n",
    "'''\n",
    "\n",
    "# 替换函数，参数是 Match对象\n",
    "def subFunc(match):\n",
    "    # Match对象 的 group(0) 返回的是整个匹配上的字符串， \n",
    "    src = match.group(0)\n",
    "    \n",
    "    # Match对象 的 group(1) 返回的是第一个group分组的内容\n",
    "    number = int(match.group(1)) + 6\n",
    "    dest = f'/av{number}/'\n",
    "\n",
    "    print(f'{src} 替换为 {dest}')\n",
    "\n",
    "    # 返回值就是最终替换的字符串\n",
    "    return dest\n",
    "\n",
    "newStr = re.sub(r'/av(\\d+?)/', subFunc , names)\n",
    "print(newStr)"
   ]
  },
  {
   "cell_type": "code",
   "execution_count": 20,
   "metadata": {},
   "outputs": [
    {
     "data": {
      "text/plain": [
       "'13845666901'"
      ]
     },
     "execution_count": 20,
     "metadata": {},
     "output_type": "execute_result"
    }
   ],
   "source": [
    "#match.group(0) # 获取整个匹配字符串\n",
    "#match.group(1) # 获取第1个组内字符串\n",
    "match.group(2) # 获取第2个组内字符串"
   ]
  }
 ],
 "metadata": {
  "kernelspec": {
   "display_name": "Python 3.10.4",
   "language": "python",
   "name": "python3"
  },
  "language_info": {
   "codemirror_mode": {
    "name": "ipython",
    "version": 3
   },
   "file_extension": ".py",
   "mimetype": "text/x-python",
   "name": "python",
   "nbconvert_exporter": "python",
   "pygments_lexer": "ipython3",
   "version": "3.10.4"
  },
  "orig_nbformat": 4,
  "vscode": {
   "interpreter": {
    "hash": "e8775251708c70fa625b5f735b09e53164bfbc6172ba606065f2592d242612cb"
   }
  }
 },
 "nbformat": 4,
 "nbformat_minor": 2
}
