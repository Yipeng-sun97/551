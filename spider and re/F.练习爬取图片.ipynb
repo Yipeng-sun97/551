{
 "cells": [
  {
   "cell_type": "markdown",
   "metadata": {},
   "source": [
    "爬取一张图片"
   ]
  },
  {
   "cell_type": "code",
   "execution_count": 1,
   "metadata": {},
   "outputs": [],
   "source": [
    "img_url='https://5b0988e595225.cdn.sohucs.com/images/20200322/26d13bf7b385468f94a6106b0d89094d.jpeg'"
   ]
  },
  {
   "cell_type": "code",
   "execution_count": 3,
   "metadata": {},
   "outputs": [],
   "source": [
    "import requests\n",
    "import os\n",
    "\n",
    "r = requests.get(img_url)\n",
    "\n",
    "with open('./img/image1.png','wb') as f:\n",
    "    for chunk in r.iter_content(chunk_size=64):\n",
    "        f.write(chunk)\n"
   ]
  },
  {
   "cell_type": "markdown",
   "metadata": {},
   "source": [
    "for loop\n",
    "爬取图片"
   ]
  },
  {
   "cell_type": "code",
   "execution_count": 18,
   "metadata": {},
   "outputs": [],
   "source": [
    "from bs4 import BeautifulSoup\n",
    "import requests\n",
    "\n",
    "url=\"https://pic.sogou.com/pic/searchList.jsp?statref=searchlist_hintword_in&spver=1&rcer=g9PEAOPWm-ckOyPX3&keyword=%E6%80%A7%E6%84%9F%E5%A4%A7%E8%83%B8%E5%B0%A4%E7%89%A9%E7%BE%8E%E5%A5%B3%E5%A4%A7%E5%85%A8\""
   ]
  },
  {
   "cell_type": "code",
   "execution_count": 19,
   "metadata": {},
   "outputs": [
    {
     "name": "stdout",
     "output_type": "stream",
     "text": [
      "[<div class=\"img-layout\" data-v-d3b71e14=\"\"><div class=\"img-height\" data-v-d3b71e14=\"\"><!-- --> <img alt=\"\" data-v-d3b71e14=\"\" height=\"116.68799999999999\" src=\"https://i03piccdn.sogoucdn.com/81f9ab24de5ea1c9\" style=\"background:#f6dddd;\"/> <!-- --></div></div>, <div class=\"img-layout\" data-v-d3b71e14=\"\"><div class=\"img-height\" data-v-d3b71e14=\"\"><!-- --> <img alt=\"\" data-v-d3b71e14=\"\" height=\"276.76\" src=\"https://i01piccdn.sogoucdn.com/ea0eebb340cbbbcb\" style=\"background:#e3ddf6;\"/> <!-- --></div></div>, <div class=\"img-layout\" data-v-d3b71e14=\"\"><div class=\"img-height\" data-v-d3b71e14=\"\"><!-- --> <img alt=\"\" data-v-d3b71e14=\"\" height=\"279.004\" src=\"https://i01piccdn.sogoucdn.com/493cf8c53f571e7e\" style=\"background:#cde7e9;\"/> <!-- --></div></div>, <div class=\"img-layout\" data-v-d3b71e14=\"\"><div class=\"img-height\" data-v-d3b71e14=\"\"><!-- --> <img alt=\"\" data-v-d3b71e14=\"\" height=\"272.646\" src=\"https://i02piccdn.sogoucdn.com/5935ddc82d8de36d\" style=\"background:#d7ddd0;\"/> <!-- --></div></div>, <div class=\"img-layout\" data-v-d3b71e14=\"\"><div class=\"img-height\" data-v-d3b71e14=\"\"><!-- --> <img alt=\"\" data-v-d3b71e14=\"\" height=\"276.76\" src=\"https://i03piccdn.sogoucdn.com/86f2f4d2362b9186\" style=\"background:#d7ddd0;\"/> <!-- --></div></div>, <div class=\"img-layout\" data-v-d3b71e14=\"\"><div class=\"img-height\" data-v-d3b71e14=\"\"><!-- --> <img alt=\"\" data-v-d3b71e14=\"\" height=\"279.752\" src=\"https://i03piccdn.sogoucdn.com/d246915623d40c85\" style=\"background:#f6eed2;\"/> <!-- --></div></div>, <div class=\"img-layout\" data-v-d3b71e14=\"\"><div class=\"img-height\" data-v-d3b71e14=\"\"><!-- --> <img alt=\"\" data-v-d3b71e14=\"\" height=\"311.54200000000003\" src=\"https://i01piccdn.sogoucdn.com/9bd56294292112b3\" style=\"background:#f6dddd;\"/> <!-- --></div></div>]\n"
     ]
    }
   ],
   "source": [
    "html = requests.get(url).text# 拿到这个网址的html内容\n",
    "soup = BeautifulSoup(html) #利用soup，把html放入soup中\n",
    "img_ul = soup.find_all('div', {\"class\": \"img-layout\"})  #根据网页的信息匹配对应的内容\n",
    "print(img_ul)\n"
   ]
  },
  {
   "cell_type": "code",
   "execution_count": 20,
   "metadata": {},
   "outputs": [
    {
     "name": "stdout",
     "output_type": "stream",
     "text": [
      "Saved 81f9ab24de5ea1c9\n",
      "Saved ea0eebb340cbbbcb\n",
      "Saved 493cf8c53f571e7e\n",
      "Saved 5935ddc82d8de36d\n",
      "Saved 86f2f4d2362b9186\n",
      "Saved d246915623d40c85\n",
      "Saved 9bd56294292112b3\n"
     ]
    }
   ],
   "source": [
    "for ul in img_ul:\n",
    "    imgs = ul.find_all('img')\n",
    "    for img in imgs:\n",
    "        url = img['src']\n",
    "        r = requests.get(url, stream=True)\n",
    "        image_name = url.split('/')[-1]\n",
    "        with open('./img/%s' % image_name, 'wb') as f:\n",
    "            for chunk in r.iter_content(chunk_size=128):\n",
    "                f.write(chunk)\n",
    "        print('Saved %s' % image_name)"
   ]
  }
 ],
 "metadata": {
  "kernelspec": {
   "display_name": "Python 3.10.4",
   "language": "python",
   "name": "python3"
  },
  "language_info": {
   "codemirror_mode": {
    "name": "ipython",
    "version": 3
   },
   "file_extension": ".py",
   "mimetype": "text/x-python",
   "name": "python",
   "nbconvert_exporter": "python",
   "pygments_lexer": "ipython3",
   "version": "3.10.4"
  },
  "orig_nbformat": 4,
  "vscode": {
   "interpreter": {
    "hash": "e8775251708c70fa625b5f735b09e53164bfbc6172ba606065f2592d242612cb"
   }
  }
 },
 "nbformat": 4,
 "nbformat_minor": 2
}
