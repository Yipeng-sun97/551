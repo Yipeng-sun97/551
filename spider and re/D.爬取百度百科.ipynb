{
 "cells": [
  {
   "cell_type": "code",
   "execution_count": 2,
   "metadata": {},
   "outputs": [],
   "source": [
    "from bs4 import BeautifulSoup\n",
    "from urllib.request import urlopen\n",
    "import re \n",
    "import random\n",
    "\n",
    "base_url = 'https://baike.baidu.com'\n",
    "his = [\"/item/%E7%BD%91%E7%BB%9C%E7%88%AC%E8%99%AB/5162711\"] #中文‘网络爬虫’的编码\n",
    "\n",
    "# base_url + his \n",
    "#完整是网页链接 = https://baike.baidu.com/网络爬虫"
   ]
  },
  {
   "cell_type": "markdown",
   "metadata": {},
   "source": [
    "选择base_url和his "
   ]
  },
  {
   "cell_type": "markdown",
   "metadata": {},
   "source": [
    "下面做的事情, 是为了在屏幕上打印出来我们现在正在哪张网页上, 网页的名字叫什么."
   ]
  },
  {
   "cell_type": "code",
   "execution_count": 3,
   "metadata": {},
   "outputs": [
    {
     "name": "stdout",
     "output_type": "stream",
     "text": [
      "网络爬虫 url: /item/%E7%BD%91%E7%BB%9C%E7%88%AC%E8%99%AB/5162711\n"
     ]
    }
   ],
   "source": [
    "url = base_url + his[-1]\n",
    "\n",
    "html = urlopen(url).read().decode('utf-8')\n",
    "soup = BeautifulSoup(html)\n",
    "print(soup.find('h1').get_text(), 'url:', his[-1])"
   ]
  },
  {
   "cell_type": "code",
   "execution_count": 25,
   "metadata": {},
   "outputs": [
    {
     "name": "stdout",
     "output_type": "stream",
     "text": [
      "['/item/%E6%90%9C%E7%B4%A2%E5%BC%95%E6%93%8E', '/item/%E6%8D%B7%E5%85%8B', '/item/%E7%A6%BB%E7%BA%BF%E8%A7%82%E7%9C%8B', '/item/%E5%9E%83%E5%9C%BE%E9%82%AE%E4%BB%B6']\n"
     ]
    }
   ],
   "source": [
    "# find valid urls\n",
    "sub_urls = soup.find_all(\"a\", {\"target\": \"_blank\", \"href\": re.compile(\"/item/(%.{2})+$\")})\n",
    "#print(sub_urls)\n",
    "\n",
    "if len(sub_urls) != 0:\n",
    "    his.append(random.sample(sub_urls, 1)[0]['href']) #从sub_urls中随机取一个\n",
    "else:\n",
    "    # no valid sub link found\n",
    "    his.pop()\n",
    "print(his)"
   ]
  },
  {
   "cell_type": "markdown",
   "metadata": {},
   "source": [
    "合成一个for loop"
   ]
  },
  {
   "cell_type": "code",
   "execution_count": 3,
   "metadata": {},
   "outputs": [
    {
     "name": "stdout",
     "output_type": "stream",
     "text": [
      "0 网络爬虫     url:  /item/%E7%BD%91%E7%BB%9C%E7%88%AC%E8%99%AB/5162711\n",
      "1 搜索引擎     url:  /item/%E6%90%9C%E7%B4%A2%E5%BC%95%E6%93%8E\n",
      "2 全文索引     url:  /item/%E5%85%A8%E6%96%87%E7%B4%A2%E5%BC%95\n",
      "3 存储过程     url:  /item/%E5%AD%98%E5%82%A8%E8%BF%87%E7%A8%8B\n",
      "4 文字处理软件     url:  /item/%E6%96%87%E5%AD%97%E5%A4%84%E7%90%86%E8%BD%AF%E4%BB%B6\n",
      "5 存储过程     url:  /item/%E5%AD%98%E5%82%A8%E8%BF%87%E7%A8%8B\n",
      "6 源代码     url:  /item/%E6%BA%90%E4%BB%A3%E7%A0%81\n",
      "7 米歇尔·莫娜汉     url:  /item/%E7%B1%B3%E6%AD%87%E5%B0%94%C2%B7%E8%8E%AB%E5%A8%9C%E6%B1%89\n",
      "8 百度百科：特色词条     url:  /item/%E7%99%BE%E5%BA%A6%E7%99%BE%E7%A7%91%EF%BC%9A%E7%89%B9%E8%89%B2%E8%AF%8D%E6%9D%A1\n",
      "9 姜文     url:  /item/%E5%A7%9C%E6%96%87\n"
     ]
    }
   ],
   "source": [
    "his = [\"/item/%E7%BD%91%E7%BB%9C%E7%88%AC%E8%99%AB/5162711\"]\n",
    "\n",
    "for i in range(10):\n",
    "    url = base_url + his[-1]\n",
    "\n",
    "    html = urlopen(url).read().decode('utf-8')\n",
    "    soup = BeautifulSoup(html)\n",
    "    print(i, soup.find('h1').get_text(), '    url: ', his[-1])\n",
    "\n",
    "    # find valid urls\n",
    "    sub_urls = soup.find_all(\"a\", {\"target\": \"_blank\", \"href\": re.compile(\"/item/(%.{2})+$\")})\n",
    "\n",
    "    if len(sub_urls) != 0:\n",
    "        his.append(random.sample(sub_urls, 1)[0]['href'])\n",
    "    else:\n",
    "        # no valid sub link found\n",
    "        his.pop()\n",
    "\n"
   ]
  },
  {
   "cell_type": "code",
   "execution_count": null,
   "metadata": {},
   "outputs": [],
   "source": [
    "\n",
    "\n"
   ]
  }
 ],
 "metadata": {
  "kernelspec": {
   "display_name": "Python 3.10.4",
   "language": "python",
   "name": "python3"
  },
  "language_info": {
   "codemirror_mode": {
    "name": "ipython",
    "version": 3
   },
   "file_extension": ".py",
   "mimetype": "text/x-python",
   "name": "python",
   "nbconvert_exporter": "python",
   "pygments_lexer": "ipython3",
   "version": "3.10.4"
  },
  "orig_nbformat": 4,
  "vscode": {
   "interpreter": {
    "hash": "e8775251708c70fa625b5f735b09e53164bfbc6172ba606065f2592d242612cb"
   }
  }
 },
 "nbformat": 4,
 "nbformat_minor": 2
}
